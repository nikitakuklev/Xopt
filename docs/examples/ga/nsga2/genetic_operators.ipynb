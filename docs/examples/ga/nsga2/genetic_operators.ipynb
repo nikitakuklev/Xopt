{
 "cells": [
  {
   "cell_type": "markdown",
   "id": "d273f1ce",
   "metadata": {},
   "source": [
    "# Genetic Operators\n",
    "This notebook demonstrates the effect of the genetic operators used in `NSGA2Generator` by sampling their output and plotting the resulting probability density functions."
   ]
  },
  {
   "cell_type": "code",
   "execution_count": null,
   "id": "0d96a4cd",
   "metadata": {},
   "outputs": [],
   "source": [
    "import numpy as np\n",
    "import matplotlib.pyplot as plt\n",
    "\n",
    "from xopt.generators.ga.operators import SimulatedBinaryCrossover, PolynomialMutation"
   ]
  },
  {
   "cell_type": "markdown",
   "id": "98ff8d62",
   "metadata": {},
   "source": [
    "## Polynomial Mutation\n",
    "In this section, we perform polynomial mutation on mock problem with decision variable bounds of `[-1, 1]` and with the value of the original decision variables set to one of several locations. This allows us to plot the probability density function of the operator's output."
   ]
  },
  {
   "cell_type": "code",
   "execution_count": null,
   "id": "b025a4c7",
   "metadata": {},
   "outputs": [],
   "source": [
    "# Settings for the run\n",
    "num_vars = 512\n",
    "num_individuals = 10240\n",
    "eta_m = 20\n",
    "\n",
    "# Create subplots for visualization\n",
    "fig, axs = plt.subplots(1, 1)\n",
    "fig.suptitle(\"Polynomial Mutation (Three Locations)\", fontsize=16)\n",
    "\n",
    "for idx, loc in enumerate([-0.9, 0.0, 0.9]):\n",
    "    # Define bounds (all variables between -1 and 1)\n",
    "    bounds = np.array([[-1.0] * num_vars, [1.0] * num_vars])\n",
    "\n",
    "    # Create mutation operators\n",
    "    polynomial_mut = PolynomialMutation(pm=1, eta_m=eta_m)\n",
    "\n",
    "    # Generate initial population\n",
    "    population = np.full((num_individuals, num_vars), loc)\n",
    "\n",
    "    # Mutate population using both operators\n",
    "    poly_mutated_xopt = np.array([polynomial_mut(ind, bounds) for ind in population])\n",
    "\n",
    "    # Original distribution\n",
    "    plt.hist(poly_mutated_xopt.ravel(), bins=128, alpha=0.5, label=f\"loc={loc:.1f}\")\n",
    "    plt.axvline(loc, c=\"k\", ls=\":\")\n",
    "\n",
    "plt.axvline(-1, c=\"r\")\n",
    "plt.axvline(1, c=\"r\")\n",
    "\n",
    "plt.xlabel(\"Value\")\n",
    "plt.ylabel(\"Frequency\")\n",
    "plt.legend()"
   ]
  },
  {
   "cell_type": "markdown",
   "id": "eef1aace",
   "metadata": {},
   "source": [
    "## Simulated Binary Crossover\n",
    "We now demonstrate the probability density function of the output from simulated binary crossover.\n",
    "Two individuals with decision variables set to some particular value are crossed over for a mock problem with decision variable bounds of `[-1, 1]`."
   ]
  },
  {
   "cell_type": "code",
   "execution_count": null,
   "id": "fc226685",
   "metadata": {},
   "outputs": [],
   "source": [
    "def plot_sbx(\n",
    "    num_vars=512,\n",
    "    num_individuals=10240,\n",
    "    loc1=0.5,\n",
    "    loc2=-0.5,\n",
    "    eta_c=20,\n",
    "    delta_1=1,\n",
    "    delta_2=0.5,\n",
    "):\n",
    "    # Create subplots for visualization\n",
    "    plt.suptitle(\"Simulated Binary Crossover\", fontsize=16)\n",
    "\n",
    "    # Define bounds (all variables between -1 and 1)\n",
    "    bounds = np.array([[-1.0] * num_vars, [1.0] * num_vars])\n",
    "\n",
    "    # Create mutation operators\n",
    "    sbx = SimulatedBinaryCrossover(delta_1=delta_1, delta_2=delta_2, eta_c=eta_c)\n",
    "\n",
    "    # Generate initial population\n",
    "    population1 = np.full((num_individuals, num_vars), loc1)\n",
    "    population2 = np.full((num_individuals, num_vars), loc2)\n",
    "\n",
    "    # Mutate population using both operators\n",
    "    poly_mutated_xopt = np.array(\n",
    "        [sbx(ind1, ind2, bounds)[0] for ind1, ind2 in zip(population1, population2)]\n",
    "    )\n",
    "\n",
    "    # Original distribution\n",
    "    plt.hist(\n",
    "        poly_mutated_xopt.ravel(),\n",
    "        bins=128,\n",
    "        alpha=0.5,\n",
    "        label=f\"loc1={loc1:.1f}, loc2={loc2:.1f}\",\n",
    "    )\n",
    "    plt.axvline(loc1, c=\"k\", ls=\":\")\n",
    "    plt.axvline(loc2, c=\"k\", ls=\":\")\n",
    "\n",
    "    plt.axvline(-1, c=\"r\")\n",
    "    plt.axvline(1, c=\"r\")\n",
    "\n",
    "    plt.xlabel(\"Value\")\n",
    "    plt.ylabel(\"Frequency\")\n",
    "\n",
    "\n",
    "# Plot for several locations\n",
    "plot_sbx()\n",
    "plot_sbx(loc1=-0.05, loc2=0.05)\n",
    "plot_sbx(loc1=-0.9, loc2=0.9)\n",
    "plt.legend(loc=\"upper right\")"
   ]
  }
 ],
 "metadata": {
  "kernelspec": {
   "display_name": "xopt-dev",
   "language": "python",
   "name": "python3"
  },
  "language_info": {
   "codemirror_mode": {
    "name": "ipython",
    "version": 3
   },
   "file_extension": ".py",
   "mimetype": "text/x-python",
   "name": "python",
   "nbconvert_exporter": "python",
   "pygments_lexer": "ipython3",
   "version": "3.12.0"
  }
 },
 "nbformat": 4,
 "nbformat_minor": 5
}
