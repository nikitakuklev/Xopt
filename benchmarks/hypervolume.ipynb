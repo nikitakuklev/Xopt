{
 "cells": [
  {
   "metadata": {},
   "cell_type": "code",
   "source": [
    "import numpy as np\n",
    "import pandas as pd\n",
    "from xopt.resources.benchmarking import BenchHV\n",
    "\n",
    "bench = BenchHV(n_obj_list=[2,3,4], it=20, n_array=np.logspace(1, 3.2, 30).astype(int))"
   ],
   "id": "45866515e9149bfe",
   "outputs": [],
   "execution_count": null
  },
  {
   "metadata": {},
   "cell_type": "code",
   "source": "results_dicts = bench.run()",
   "id": "716df3b866750d96",
   "outputs": [],
   "execution_count": null
  },
  {
   "metadata": {
    "collapsed": true
   },
   "cell_type": "code",
   "source": "df = pd.DataFrame(results_dicts)",
   "id": "initial_id",
   "outputs": [],
   "execution_count": null
  },
  {
   "metadata": {},
   "cell_type": "code",
   "source": "df",
   "id": "631ba6f61c12bc99",
   "outputs": [],
   "execution_count": null
  },
  {
   "metadata": {},
   "cell_type": "code",
   "source": [
    "from matplotlib import pyplot as plt\n",
    "\n",
    "fig,ax  = plt.subplots(1,1, figsize=(10, 5))\n",
    "df2 = df[df['n_obj'] == 2].drop(columns=['n_obj', 't_botorch_pf', 't_botorch_partitioning_pf'])\n",
    "df2.plot(ax=ax,grid=True, x='n_points', ylabel='CPU time (seconds)', logy=True, title='Scaling 2 objectives',\n",
    "         marker='.')"
   ],
   "id": "29348b79999988e3",
   "outputs": [],
   "execution_count": null
  },
  {
   "metadata": {},
   "cell_type": "code",
   "source": [
    "fig,ax  = plt.subplots(1,1, figsize=(10, 5))\n",
    "df3 = df[df['n_obj'] == 3].drop(columns=['n_obj', 't_botorch_pf', 't_botorch_partitioning_pf'])\n",
    "df3.plot(ax=ax,grid=True, x='n_points', ylabel='CPU time (seconds)', logy=True, title='Scaling 3 objectives',\n",
    "         marker='.')"
   ],
   "id": "424e305ff7218e6b",
   "outputs": [],
   "execution_count": null
  },
  {
   "metadata": {},
   "cell_type": "code",
   "source": [
    "fig,ax  = plt.subplots(1,1, figsize=(10, 5))\n",
    "df3 = df[df['n_obj'] == 4].drop(columns=['n_obj', 't_botorch_pf', 't_botorch_partitioning_pf'])\n",
    "df3.plot(ax=ax,grid=True, x='n_points', ylabel='CPU time (seconds)', logy=True, title='Scaling 4 objectives',\n",
    "         marker='.')"
   ],
   "id": "f4f27a37ab359f60",
   "outputs": [],
   "execution_count": null
  },
  {
   "metadata": {},
   "cell_type": "code",
   "source": "",
   "id": "87e107e257dd9f0c",
   "outputs": [],
   "execution_count": null
  }
 ],
 "metadata": {
  "kernelspec": {
   "display_name": "Python 3",
   "language": "python",
   "name": "python3"
  },
  "language_info": {
   "codemirror_mode": {
    "name": "ipython",
    "version": 2
   },
   "file_extension": ".py",
   "mimetype": "text/x-python",
   "name": "python",
   "nbconvert_exporter": "python",
   "pygments_lexer": "ipython2",
   "version": "2.7.6"
  }
 },
 "nbformat": 4,
 "nbformat_minor": 5
}
